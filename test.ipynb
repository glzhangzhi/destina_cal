{
 "cells": [
  {
   "cell_type": "code",
   "execution_count": 16,
   "metadata": {},
   "outputs": [
    {
     "name": "stdout",
     "output_type": "stream",
     "text": [
      "癸卯 甲寅 壬寅 庚戌 正月\n"
     ]
    }
   ],
   "source": [
    "from date_utils import gan_zhi, gz, yuefen\n",
    "from test import sanyuan, get_last_jieqi, wuxing_sheng_ke, get_jiugong_wuxing, yuefen2wuxing, tiangan2wuxing, jushu, dipan_tiangan\n",
    "\n",
    "date = '2023-2-13 20:59'\n",
    "\n",
    "ngz, ygz, rgz, sgz, yly = gan_zhi(date)\n",
    "print(ngz, ygz, rgz, sgz, yly)"
   ]
  },
  {
   "cell_type": "code",
   "execution_count": 17,
   "metadata": {},
   "outputs": [
    {
     "data": {
      "text/plain": [
       "'中元'"
      ]
     },
     "execution_count": 17,
     "metadata": {},
     "output_type": "execute_result"
    }
   ],
   "source": [
    "yuan = sanyuan(rgz)\n",
    "yuan"
   ]
  },
  {
   "cell_type": "code",
   "execution_count": 18,
   "metadata": {},
   "outputs": [
    {
     "data": {
      "text/plain": [
       "'2023-2-13 20:59'"
      ]
     },
     "execution_count": 18,
     "metadata": {},
     "output_type": "execute_result"
    }
   ],
   "source": [
    "date"
   ]
  },
  {
   "cell_type": "code",
   "execution_count": 19,
   "metadata": {},
   "outputs": [
    {
     "data": {
      "text/plain": [
       "'立春'"
      ]
     },
     "execution_count": 19,
     "metadata": {},
     "output_type": "execute_result"
    }
   ],
   "source": [
    "last_jieqi = get_last_jieqi(date.split(' ')[0])\n",
    "last_jieqi"
   ]
  },
  {
   "cell_type": "code",
   "execution_count": 20,
   "metadata": {},
   "outputs": [
    {
     "data": {
      "text/plain": [
       "'阳'"
      ]
     },
     "execution_count": 20,
     "metadata": {},
     "output_type": "execute_result"
    }
   ],
   "source": [
    "yangjieqi = '冬至 小寒 大寒 立春 雨水 惊蛰 春分 清明 谷雨 立夏 小满 芒种'.split(' ')\n",
    "yinjieqi = '夏至 小暑 大暑 立秋 处暑 白露 秋分 寒霜 霜降 李东 小雪 大雪'.split(' ')\n",
    "if last_jieqi in yangjieqi:\n",
    "    ju = '阳'\n",
    "elif last_jieqi in yinjieqi:\n",
    "    ju = '阴'\n",
    "ju"
   ]
  },
  {
   "cell_type": "code",
   "execution_count": 21,
   "metadata": {},
   "outputs": [
    {
     "data": {
      "text/plain": [
       "5"
      ]
     },
     "execution_count": 21,
     "metadata": {},
     "output_type": "execute_result"
    }
   ],
   "source": [
    "shu = jushu[last_jieqi][yuan]\n",
    "shu"
   ]
  },
  {
   "cell_type": "code",
   "execution_count": 22,
   "metadata": {},
   "outputs": [
    {
     "data": {
      "text/plain": [
       "[1, 1, 1, 1, 1, 1, 1, 1, 1]"
      ]
     },
     "execution_count": 22,
     "metadata": {},
     "output_type": "execute_result"
    }
   ],
   "source": [
    "dipan = [1] * 9\n",
    "dipan"
   ]
  },
  {
   "cell_type": "code",
   "execution_count": 23,
   "metadata": {},
   "outputs": [],
   "source": [
    "next = shu\n",
    "for i1 in range(9):\n",
    "    dipan[next - 1] = dipan_tiangan[i1]\n",
    "    if ju == 'yang':\n",
    "        next += 1\n",
    "    else:\n",
    "        next -= 1\n",
    "    if next > 9:\n",
    "        next = 1\n",
    "    elif next < 1:\n",
    "        next = 9"
   ]
  },
  {
   "cell_type": "code",
   "execution_count": 24,
   "metadata": {},
   "outputs": [
    {
     "name": "stdout",
     "output_type": "stream",
     "text": [
      "     \n",
      "己 癸 辛\n",
      "庚 戊 丙\n",
      "丁 壬 乙\n",
      "\n"
     ]
    }
   ],
   "source": [
    "print(f'''     \n",
    "{dipan[3]} {dipan[8]} {dipan[1]}\n",
    "{dipan[2]} {dipan[4]} {dipan[6]}\n",
    "{dipan[7]} {dipan[0]} {dipan[5]}\n",
    "''')"
   ]
  },
  {
   "cell_type": "code",
   "execution_count": 25,
   "metadata": {},
   "outputs": [
    {
     "data": {
      "text/plain": [
       "'壬'"
      ]
     },
     "execution_count": 25,
     "metadata": {},
     "output_type": "execute_result"
    }
   ],
   "source": [
    "rg = rgz[0]\n",
    "rg"
   ]
  },
  {
   "cell_type": "code",
   "execution_count": 26,
   "metadata": {},
   "outputs": [
    {
     "data": {
      "text/plain": [
       "('日干五行', '水')"
      ]
     },
     "execution_count": 26,
     "metadata": {},
     "output_type": "execute_result"
    }
   ],
   "source": [
    "rgwuxing = tiangan2wuxing[rg]\n",
    "'日干五行', rgwuxing"
   ]
  },
  {
   "cell_type": "code",
   "execution_count": 27,
   "metadata": {},
   "outputs": [
    {
     "data": {
      "text/plain": [
       "('月份五行', '木')"
      ]
     },
     "execution_count": 27,
     "metadata": {},
     "output_type": "execute_result"
    }
   ],
   "source": [
    "ywuxing = yuefen2wuxing[yly]\n",
    "'月份五行', ywuxing"
   ]
  },
  {
   "cell_type": "code",
   "execution_count": 28,
   "metadata": {},
   "outputs": [
    {
     "data": {
      "text/plain": [
       "('地盘五行', '水')"
      ]
     },
     "execution_count": 28,
     "metadata": {},
     "output_type": "execute_result"
    }
   ],
   "source": [
    "jiugongwuxing = get_jiugong_wuxing(dipan.index(rg))\n",
    "'地盘五行', jiugongwuxing"
   ]
  },
  {
   "cell_type": "code",
   "execution_count": 29,
   "metadata": {},
   "outputs": [
    {
     "data": {
      "text/plain": [
       "'日月凶吉: 相'"
      ]
     },
     "execution_count": 29,
     "metadata": {},
     "output_type": "execute_result"
    }
   ],
   "source": [
    "f'日月凶吉: {wuxing_sheng_ke(rgwuxing, ywuxing)}'"
   ]
  },
  {
   "cell_type": "code",
   "execution_count": 30,
   "metadata": {},
   "outputs": [
    {
     "data": {
      "text/plain": [
       "'地盘凶吉: 旺'"
      ]
     },
     "execution_count": 30,
     "metadata": {},
     "output_type": "execute_result"
    }
   ],
   "source": [
    "f'地盘凶吉: {wuxing_sheng_ke(rgwuxing, jiugongwuxing)}'"
   ]
  },
  {
   "cell_type": "code",
   "execution_count": 31,
   "metadata": {},
   "outputs": [],
   "source": [
    "jiuxing = '蓬 任 冲 辅 英 芮 柱 心 禽'.split(' ')"
   ]
  },
  {
   "cell_type": "code",
   "execution_count": 32,
   "metadata": {},
   "outputs": [],
   "source": [
    "jiuxingzhudi = {\n",
    "    0:'蓬',\n",
    "    1:'芮',\n",
    "    2:'冲',\n",
    "    3:'辅',\n",
    "    4:'禽',\n",
    "    5:'心',\n",
    "    6:'柱',\n",
    "    7:'任',\n",
    "    8:'英'\n",
    "}"
   ]
  },
  {
   "cell_type": "code",
   "execution_count": 34,
   "metadata": {},
   "outputs": [
    {
     "data": {
      "text/plain": [
       "'蓬'"
      ]
     },
     "execution_count": 34,
     "metadata": {},
     "output_type": "execute_result"
    }
   ],
   "source": [
    "riganjiuxing = jiuxingzhudi[dipan.index(rg)]\n",
    "riganjiuxing"
   ]
  },
  {
   "cell_type": "code",
   "execution_count": 16,
   "metadata": {},
   "outputs": [],
   "source": [
    "class A:\n",
    "    \n",
    "    def __repr__(self):\n",
    "        return('repr')\n",
    "    \n",
    "    def __str__(self):\n",
    "        return 'str'\n",
    "\n",
    "class B:\n",
    "    \n",
    "    def __repr__(self):\n",
    "        return('repr')\n",
    "\n",
    "class C:\n",
    "    \n",
    "    def __str__(self):\n",
    "        return 'str'\n",
    "\n",
    "class D:\n",
    "    \n",
    "    def __init__(self):\n",
    "        pass\n",
    "\n",
    "a, b, c, d = A(), B(), C(), D()\n"
   ]
  },
  {
   "cell_type": "code",
   "execution_count": 17,
   "metadata": {},
   "outputs": [
    {
     "name": "stdout",
     "output_type": "stream",
     "text": [
      "str repr str <__main__.D object at 0x000001C565B29450>\n"
     ]
    }
   ],
   "source": [
    "print(a, b, c, d)"
   ]
  },
  {
   "cell_type": "code",
   "execution_count": 18,
   "metadata": {},
   "outputs": [
    {
     "data": {
      "text/plain": [
       "('str', 'repr', 'str', '<__main__.D object at 0x000001C565B29450>')"
      ]
     },
     "execution_count": 18,
     "metadata": {},
     "output_type": "execute_result"
    }
   ],
   "source": [
    "str(a), str(b), str(c), str(d)"
   ]
  },
  {
   "cell_type": "code",
   "execution_count": 19,
   "metadata": {},
   "outputs": [
    {
     "data": {
      "text/plain": [
       "('repr',\n",
       " 'repr',\n",
       " '<__main__.C object at 0x000001C565B2B370>',\n",
       " '<__main__.D object at 0x000001C565B29450>')"
      ]
     },
     "execution_count": 19,
     "metadata": {},
     "output_type": "execute_result"
    }
   ],
   "source": [
    "repr(a), repr(b), repr(c), repr(d)"
   ]
  },
  {
   "cell_type": "code",
   "execution_count": 20,
   "metadata": {},
   "outputs": [
    {
     "data": {
      "text/plain": [
       "(repr, repr, <__main__.C at 0x1c565b2b370>, <__main__.D at 0x1c565b29450>)"
      ]
     },
     "execution_count": 20,
     "metadata": {},
     "output_type": "execute_result"
    }
   ],
   "source": [
    "a, b, c, d"
   ]
  },
  {
   "cell_type": "code",
   "execution_count": null,
   "metadata": {},
   "outputs": [],
   "source": []
  }
 ],
 "metadata": {
  "kernelspec": {
   "display_name": "FA",
   "language": "python",
   "name": "python3"
  },
  "language_info": {
   "codemirror_mode": {
    "name": "ipython",
    "version": 3
   },
   "file_extension": ".py",
   "mimetype": "text/x-python",
   "name": "python",
   "nbconvert_exporter": "python",
   "pygments_lexer": "ipython3",
   "version": "3.10.6"
  },
  "orig_nbformat": 4,
  "vscode": {
   "interpreter": {
    "hash": "579a23af62530712fe5a3aac8075580b25aa551245488692aa386dce72594999"
   }
  }
 },
 "nbformat": 4,
 "nbformat_minor": 2
}
